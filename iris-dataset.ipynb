{
 "cells": [
  {
   "cell_type": "code",
   "execution_count": 7,
   "metadata": {
    "_cell_guid": "b1076dfc-b9ad-4769-8c92-a6c4dae69d19",
    "_uuid": "8f2839f25d086af736a60e9eeb907d3b93b6e0e5"
   },
   "outputs": [
    {
     "name": "stdout",
     "output_type": "stream",
     "text": [
      "{0: 'setosa', 1: 'versicolor', 2: 'virginica'}\n",
      "LinearSVC\n",
      "KNeighborsClassifier\n",
      "MLPClassifier\n",
      "LinearDiscriminantAnalysis\n",
      "VotingClassifier\n"
     ]
    },
    {
     "name": "stderr",
     "output_type": "stream",
     "text": [
      "C:\\ProgramData\\Anaconda3\\lib\\site-packages\\sklearn\\svm\\_base.py:947: ConvergenceWarning: Liblinear failed to converge, increase the number of iterations.\n",
      "  \"the number of iterations.\", ConvergenceWarning)\n",
      "C:\\ProgramData\\Anaconda3\\lib\\site-packages\\sklearn\\svm\\_base.py:947: ConvergenceWarning: Liblinear failed to converge, increase the number of iterations.\n",
      "  \"the number of iterations.\", ConvergenceWarning)\n",
      "C:\\ProgramData\\Anaconda3\\lib\\site-packages\\sklearn\\svm\\_base.py:947: ConvergenceWarning: Liblinear failed to converge, increase the number of iterations.\n",
      "  \"the number of iterations.\", ConvergenceWarning)\n",
      "C:\\ProgramData\\Anaconda3\\lib\\site-packages\\sklearn\\svm\\_base.py:947: ConvergenceWarning: Liblinear failed to converge, increase the number of iterations.\n",
      "  \"the number of iterations.\", ConvergenceWarning)\n",
      "C:\\ProgramData\\Anaconda3\\lib\\site-packages\\sklearn\\svm\\_base.py:947: ConvergenceWarning: Liblinear failed to converge, increase the number of iterations.\n",
      "  \"the number of iterations.\", ConvergenceWarning)\n",
      "C:\\ProgramData\\Anaconda3\\lib\\site-packages\\sklearn\\neural_network\\_multilayer_perceptron.py:470: ConvergenceWarning: lbfgs failed to converge (status=1):\n",
      "STOP: TOTAL NO. of ITERATIONS REACHED LIMIT.\n",
      "\n",
      "Increase the number of iterations (max_iter) or scale the data as shown in:\n",
      "    https://scikit-learn.org/stable/modules/preprocessing.html\n",
      "  self.n_iter_ = _check_optimize_result(\"lbfgs\", opt_res, self.max_iter)\n"
     ]
    },
    {
     "data": {
      "image/png": "[encoded data removed]",
      "text/plain": [
       "<Figure size 720x720 with 4 Axes>"
      ]
     },
     "metadata": {
      "needs_background": "light"
     },
     "output_type": "display_data"
    },
    {
     "name": "stdout",
     "output_type": "stream",
     "text": [
      "________________________________________________________________________\n"
     ]
    }
   ],
   "source": [
    "import numpy as np # linear algebra\n",
    "import pandas as pd # data processing, CSV file I/O (e.g. pd.read_csv)\n",
    "import matplotlib.pyplot as plt\n",
    "from sklearn.datasets import load_iris\n",
    "from data_print import pp_conf_matrix\n",
    "from sklearn.feature_extraction.text import CountVectorizer,TfidfVectorizer\n",
    "from sklearn.pipeline import Pipeline\n",
    "from sklearn.ensemble import ExtraTreesClassifier,BaggingClassifier                \n",
    "from sklearn.feature_selection import SelectFromModel   \n",
    "from matplotlib.font_manager import FontProperties\n",
    "import itertools\n",
    "from sklearn.model_selection import train_test_split\n",
    "from sklearn.ensemble import RandomForestClassifier\n",
    "from mpl_toolkits.axes_grid1.inset_locator import inset_axes\n",
    "from sklearn.feature_selection import SelectFromModel\n",
    "from sklearn.metrics import f1_score\n",
    "from sklearn.decomposition import PCA,KernelPCA,TruncatedSVD\n",
    "from sklearn.linear_model import LogisticRegression,SGDClassifier\n",
    "from matplotlib.colors import ListedColormap\n",
    "from mpl_toolkits.mplot3d import Axes3D\n",
    "from sklearn.ensemble import RandomForestClassifier, VotingClassifier\n",
    "from sklearn.neighbors import KNeighborsClassifier\n",
    "from sklearn.naive_bayes import GaussianNB,MultinomialNB\n",
    "from sklearn.neural_network import MLPClassifier\n",
    "from sklearn.model_selection import RandomizedSearchCV\n",
    "from sklearn.svm import SVC\n",
    "from sklearn import tree\n",
    "from sklearn.metrics import confusion_matrix,accuracy_score,recall_score,precision_score,f1_score\n",
    "import time\n",
    "from sklearn.ensemble import AdaBoostClassifier\n",
    "from sklearn.calibration import CalibratedClassifierCV\n",
    "from sklearn.preprocessing import MinMaxScaler,MaxAbsScaler\n",
    "from imblearn.ensemble import BalancedRandomForestClassifier,BalancedBaggingClassifier\n",
    "from sklearn.ensemble import GradientBoostingClassifier\n",
    "from sklearn.linear_model import Perceptron,RidgeClassifier\n",
    "from sklearn.svm import LinearSVC\n",
    "from sklearn.neural_network import MLPClassifier\n",
    "from sklearn.discriminant_analysis import QuadraticDiscriminantAnalysis,LinearDiscriminantAnalysis\n",
    "from sklearn.model_selection import GridSearchCV\n",
    "from sklearn.decomposition import PCA,KernelPCA,TruncatedSVD\n",
    "from EstimatorSelectionHelper import GridSearchCV_Classifiers, Best_Classifiers\n",
    "\n",
    "   \n",
    "    \n",
    "    \n",
    "    \n",
    "\n",
    "iris = load_iris()\n",
    "X=iris.data\n",
    "y = iris.target\n",
    "y_names=list(iris.target_names)\n",
    "y_names={i:y_names[i] for i in range(len(y_names))}\n",
    "print(y_names)\n",
    "\n",
    "\n",
    "X_train, X_test, y_train, y_test=train_test_split(X,y,stratify=y,test_size=0.33,random_state=0)\n",
    "\n",
    "\n",
    "\n",
    "models_params_Voting={\n",
    "        \n",
    "           \n",
    "        'LinearSVC': [Pipeline([('reduce_dim',None),('clf',CalibratedClassifierCV(LinearSVC()))]),\n",
    "                                   {'reduce_dim':[None],\n",
    "                                    'clf__base_estimator__loss':['squared_hinge'],\n",
    "                                    'clf__base_estimator__C':[3],                                   \n",
    "                                    },\n",
    "                                   ],\n",
    "                \n",
    "        'KNeighborsClassifier':[Pipeline([('reduce_dim',None),('clf',KNeighborsClassifier())]),\n",
    "                                   {'reduce_dim':[PCA()],\n",
    "                                    'reduce_dim__n_components':[2],\n",
    "                                    'clf__n_neighbors':[1],                                   \n",
    "                                    'clf__algorithm':['ball_tree'],\n",
    "                                   \n",
    "                                    }],\n",
    "        'MLPClassifier':[Pipeline([('reduce_dim',None),('clf',MLPClassifier())]),\n",
    "                                   {'reduce_dim':[None],\n",
    "                                    'clf__activation':['tanh'],\n",
    "                                    'clf__solver':['lbfgs'],\n",
    "                                    'clf__learning_rate':['constant'],\n",
    "                                    'clf__alpha':[0.00005],\n",
    "                                    }],\n",
    "       \n",
    "        'LinearDiscriminantAnalysis': [Pipeline([('reduce_dim',None),('clf',LinearDiscriminantAnalysis())]),\n",
    "                                   {'reduce_dim':[PCA()],\n",
    "                                    'reduce_dim__n_components':[3],\n",
    "                                    'clf__solver':['lsqr'],\n",
    "                                     'clf__n_components':[2],         \n",
    "                                    }],      \n",
    "      \n",
    "        \n",
    "    }\n",
    "\n",
    "\n",
    "\n",
    "estimators=dict_to_models(models_params_Voting)\n",
    "models_params_finale={\n",
    "       \n",
    "         'VotingClassifier':[VotingClassifier(estimators=estimators),\n",
    "                        {'voting':['soft'],\n",
    "                         'weights':[(2, 4, 2, 2)]}]\n",
    "    \n",
    "        \n",
    "    }\n",
    "\n",
    "\n",
    "\n",
    "Best_Classifiers(X_train, X_test, y_train, y_test,models_params=models_params_finale,expl_lables=y_names)\n"
   ]
  },
  {
   "cell_type": "code",
   "execution_count": null,
   "metadata": {},
   "outputs": [],
   "source": []
  },
  {
   "cell_type": "code",
   "execution_count": null,
   "metadata": {},
   "outputs": [],
   "source": []
  }
 ],
 "metadata": {
  "kernelspec": {
   "display_name": "Python 3",
   "language": "python",
   "name": "python3"
  },
  "language_info": {
   "codemirror_mode": {
    "name": "ipython",
    "version": 3
   },
   "file_extension": ".py",
   "mimetype": "text/x-python",
   "name": "python",
   "nbconvert_exporter": "python",
   "pygments_lexer": "ipython3",
   "version": "3.7.4"
  }
 },
 "nbformat": 4,
 "nbformat_minor": 1
}
